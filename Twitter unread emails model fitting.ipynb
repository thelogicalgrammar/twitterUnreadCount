{
 "cells": [
  {
   "cell_type": "code",
   "execution_count": 34,
   "metadata": {},
   "outputs": [],
   "source": [
    "import numpy as np\n",
    "import scipy as sp\n",
    "import matplotlib.pyplot as plt\n",
    "import seaborn\n",
    "from pprint import pprint"
   ]
  },
  {
   "cell_type": "markdown",
   "metadata": {},
   "source": [
    "# Background"
   ]
  },
  {
   "attachments": {
    "image.png": {
     "image/png": "[encoded data removed]"
    }
   },
   "cell_type": "markdown",
   "metadata": {},
   "source": [
    "![image.png](attachment:image.png)"
   ]
  },
  {
   "cell_type": "markdown",
   "metadata": {},
   "source": [
    "Data: twitter poll asking how many unread email one has.\n",
    "\n",
    "- $H_0$: there is only one kind of person, the __reader__, who tends to read a lot of their emails.\n",
    "- $H_1$: there are two kinds of persons, the __reader__ and the __nonreader__, one who tends to read a lot of their emails and one who tends to only read some of them.\n",
    "\n",
    "The reader has a high probability of reading each email they get.\n",
    "The nonreader has a low probability to read the emails they get.\n",
    "\n",
    "For a certain number of received emails, the probability of a certain proportion of them being read is modelled by a binomial distribution. However, each person has a different number of emails, and the twitter poll does not tell us how many. We make the following assumptions:\n",
    "\n",
    "- Everybody has enough emails to approximate infinity.\n",
    "- Everybody leaves only a small proportion of them unread.\n",
    "\n",
    "Given these assumptions, the binomial can be approximated by a Poisson distribution (see __[here](http://www.oxfordmathcenter.com/drupal7/node/297)__). The $\\lambda$ parameter models the expected number of unread emails. So we don't need to know for each person how many emails they have overall.\n",
    "\n",
    "Given the assumptions, the two hypotheses can be formulated as follows:\n",
    "\n",
    "- $H_0$: the distribution of unread emails is best modelled by a Poisson distribution with some low $\\lambda$ parameter.\n",
    "- $H_1$: the distribution of unread emails is best modelled by a mixture of two Poisson parameters, one with a low $\\lambda$ and one with a high $\\lambda$.\n",
    "\n",
    "How to find out which is best? Model comparison!\n",
    "\n",
    "Here is how I will proceed:\n",
    "\n",
    "1. Find the maximum likelihood estimation of the parameters given each hypothesis. I use simulated annealing to do this.\n",
    "2. Do a log-likelihood test ratio test (I can do this because $H_0$ is nested within $H_1$)"
   ]
  },
  {
   "cell_type": "markdown",
   "metadata": {},
   "source": [
    "# Proportions to counts"
   ]
  },
  {
   "cell_type": "markdown",
   "metadata": {},
   "source": [
    "Pretty self explanatory:"
   ]
  },
  {
   "cell_type": "code",
   "execution_count": 3,
   "metadata": {},
   "outputs": [
    {
     "name": "stdout",
     "output_type": "stream",
     "text": [
      "[ 40.   7.   5.  16.]\n"
     ]
    }
   ],
   "source": [
    "proportions = [0.59, 0.10, 0.07, 0.24]\n",
    "\n",
    "total = 68\n",
    "\n",
    "counts = np.round([68 * prop for prop in proportions])\n",
    "\n",
    "print(counts)"
   ]
  },
  {
   "cell_type": "markdown",
   "metadata": {},
   "source": [
    "# Likelihood functions"
   ]
  },
  {
   "cell_type": "markdown",
   "metadata": {},
   "source": [
    "I calculate the probability of obtaining the set of data given a single Poisson distribution.\n",
    "\n",
    "The data does not tell us how many unread emails each person has precisely, but only whether they belong in a certain range.\n",
    "\n",
    "The ranges are:\n",
    "- 0-25\n",
    "- 26-75\n",
    "- 76-150\n",
    "- $>$ 150\n",
    "\n",
    "The data is a list of 5 numbers, i.e. the counts of responses (number of unread emails) in each range.\n",
    "\n",
    "To find the loglikelihood of the whole dataset, I sum the loprobabilities of each number appearing in each range. The probability of a number of unread is just the sum of the probability mass of the Poisson distribution in that range. For $>$151 I use the survival function, defined as 1 minus the cumulative probability function up to 151."
   ]
  },
  {
   "cell_type": "code",
   "execution_count": 4,
   "metadata": {},
   "outputs": [],
   "source": [
    "# functions that tells you the probability of falling in an interval\n",
    "def cum_func_log(min_count, max_count, lambda_par):\n",
    "    return np.log(sp.stats.poisson.cdf(k=max_count, mu=lambda_par) - sp.stats.poisson.cdf(k=min_count-1, mu=lambda_par))\n",
    "\n",
    "def loglikelihood_h0(data, lambda_par):\n",
    "    # calculate the probability mass of being in each range\n",
    "    # the probability of being in range n-m is equal to the cdf of being n minus the cdf of being up to n-1 \n",
    "    # in the scipy implementation, mu is the lambda parameter and k is the number of observations\n",
    "    \n",
    "    # list containing the logprobabilities of the count of unread falling in each range\n",
    "    logprob_ranges = [\n",
    "        sp.stats.poisson.logcdf(k=25, mu=lambda_par),\n",
    "        cum_func_log(26, 75, lambda_par),\n",
    "        cum_func_log(76, 150, lambda_par),\n",
    "        sp.stats.poisson.logsf(k=151, mu=lambda_par)\n",
    "    ]\n",
    "\n",
    "    # the loglikelihood of the whole dataset is simply the sum of the logprob of each datapoint given the parameter\n",
    "    loglik = np.sum([\n",
    "        n_in_range * logprob_range\n",
    "        for n_in_range, logprob_range in zip(data, logprob_ranges)\n",
    "    ])\n",
    "    \n",
    "    return loglik"
   ]
  },
  {
   "cell_type": "markdown",
   "metadata": {},
   "source": [
    "Note that loglikelihood_h0 can returns -inf if the probability of the data is too small given the parameters.\n",
    "\n",
    "Test the function to see that it works:"
   ]
  },
  {
   "cell_type": "code",
   "execution_count": 7,
   "metadata": {},
   "outputs": [
    {
     "data": {
      "text/plain": [
       "-444.53215284602095"
      ]
     },
     "execution_count": 7,
     "metadata": {},
     "output_type": "execute_result"
    }
   ],
   "source": [
    "loglikelihood_h0([20, 10, 1, 3], 30)"
   ]
  },
  {
   "cell_type": "markdown",
   "metadata": {},
   "source": [
    "Function to calculate the likelihood of a the mixture with the chosen parameters given the data.\n",
    "\n",
    "The function takes the lambda parameters of the two poisson and the weight of the first one."
   ]
  },
  {
   "cell_type": "code",
   "execution_count": 8,
   "metadata": {},
   "outputs": [],
   "source": [
    "# functions that tells you the probability of falling in an interval\n",
    "def cum_func(min_count, max_count, lambda_par):\n",
    "    return sp.stats.poisson.cdf(k=max_count, mu=lambda_par) - sp.stats.poisson.cdf(k=min_count-1, mu=lambda_par)\n",
    "\n",
    "def loglikelihood_h1(data, params):\n",
    "    # calculate the probability of the data given the mixture\n",
    "    # the mixture probability of falling in an interval is equal to the weighted sum of the probabilities of each\n",
    "    # component of the mixture.\n",
    "    \n",
    "    lambda_par_1, lambda_par_2, proportion_1 = params\n",
    "    \n",
    "    # calculate probabilities of being in each range in the two mixture components\n",
    "    probs_first_ranges = [\n",
    "        sp.stats.poisson.cdf(k=25, mu=lambda_par_1),\n",
    "        cum_func(26, 75, lambda_par_1),\n",
    "        cum_func(76, 150, lambda_par_1),\n",
    "        sp.stats.poisson.sf(k=151, mu=lambda_par_1)\n",
    "    ]\n",
    "    \n",
    "    probs_second_ranges = [\n",
    "        sp.stats.poisson.cdf(k=25, mu=lambda_par_2),\n",
    "        cum_func(26, 75, lambda_par_2),\n",
    "        cum_func(76, 150, lambda_par_2),\n",
    "        sp.stats.poisson.sf(k=151, mu=lambda_par_2)\n",
    "    ]\n",
    "    \n",
    "    # calculate the probability of being in each range for the mixture distribution\n",
    "    logprob_mixture_ranges = [\n",
    "        np.log(prob_first_range * proportion_1 + prob_second_range * (1 - proportion_1))\n",
    "        for prob_first_range, prob_second_range in zip(probs_first_ranges, probs_second_ranges)\n",
    "    ]\n",
    "    \n",
    "    # calculate the likelihood of the parameters given the data, i.e. the p of the data given the parameters\n",
    "    loglik = np.sum([\n",
    "        n_in_range * logprob_mix_range\n",
    "        for n_in_range, logprob_mix_range in zip(data, logprob_mixture_ranges)\n",
    "    ])\n",
    "    \n",
    "    return loglik"
   ]
  },
  {
   "cell_type": "markdown",
   "metadata": {},
   "source": [
    "Test to see that it works:"
   ]
  },
  {
   "cell_type": "code",
   "execution_count": 9,
   "metadata": {},
   "outputs": [
    {
     "data": {
      "text/plain": [
       "-435.29117467251962"
      ]
     },
     "execution_count": 9,
     "metadata": {},
     "output_type": "execute_result"
    }
   ],
   "source": [
    "loglikelihood_h1([20, 10, 1, 3], [30, 20, 0.7])"
   ]
  },
  {
   "cell_type": "markdown",
   "metadata": {},
   "source": [
    "# Maximum likelihood estimation"
   ]
  },
  {
   "cell_type": "markdown",
   "metadata": {},
   "source": [
    "I write a function to find the set of parameters that maximize the loglikelihood. Since logarithm is a monotonically increasing function, this is equivalent to maximizing the likelihood.\n",
    "\n",
    "Simulated annealing is usually used to find the min of a function, therefore I miminize the negative loglikelihood."
   ]
  },
  {
   "cell_type": "code",
   "execution_count": 55,
   "metadata": {},
   "outputs": [],
   "source": [
    "def simulated_annealing(data, likelihood_func, initial_random_generator, update_function,\n",
    "           n_steps=400, repetitions=50, cooling_factor=0.95):\n",
    "    \n",
    "    max_estimations = []\n",
    "    \n",
    "    # try to find the max likelihood parameter repetitions number of times\n",
    "    for repetition in range(repetitions):   \n",
    "        \n",
    "        # start from a random point in the parameter space\n",
    "        present_value = initial_random_generator()\n",
    "        \n",
    "        # attribute the temperature an initial value.\n",
    "        # the greater the temperature, the higher the probability that the proposal will be accepted even if it is worse\n",
    "        present_temperature = 1\n",
    "        \n",
    "        # finds the loglikelihood of the present value of the parameters\n",
    "        negloglik_present = - likelihood_func(data, present_value)\n",
    "        \n",
    "        # repeat the search for n_steps\n",
    "        for step in range(n_steps):\n",
    "            \n",
    "            # propose a value as a function of the present value\n",
    "            proposed_value = update_function(present_value)\n",
    "            \n",
    "            # calculate the loglik of the proposed value\n",
    "            negloglik_proposed = - likelihood_func(data, proposed_value)\n",
    "            \n",
    "            # calculate the difference between the new and the old loglikelihoods\n",
    "            difference = negloglik_proposed - negloglik_present\n",
    "            \n",
    "            # calculate the acceptance probability as a function of the proposed and present logliks and the temperature\n",
    "            acceptance_probability = 1 if difference < 0 else np.exp(-difference / present_temperature)\n",
    "            \n",
    "            # if the acceptance probability is greater than a random number in [0, 1], accept the proposed value\n",
    "            if acceptance_probability > np.random.random():\n",
    "                \n",
    "                negloglik_present = negloglik_proposed\n",
    "                present_value = proposed_value\n",
    "                present_temperature *= cooling_factor\n",
    "            \n",
    "        max_estimations.append(present_value)\n",
    "    return max_estimations\n",
    "        "
   ]
  },
  {
   "cell_type": "markdown",
   "metadata": {},
   "source": [
    "Test that the function works.\n",
    "\n",
    "First define a bimodal distribution as a test:"
   ]
  },
  {
   "cell_type": "code",
   "execution_count": 11,
   "metadata": {},
   "outputs": [
    {
     "data": {
      "text/plain": [
       "[<matplotlib.lines.Line2D at 0x1a30f6d8>]"
      ]
     },
     "execution_count": 11,
     "metadata": {},
     "output_type": "execute_result"
    },
    {
     "data": {
      "image/png": "[encoded data removed]",
      "text/plain": [
       "<matplotlib.figure.Figure at 0x182c7f98>"
      ]
     },
     "metadata": {},
     "output_type": "display_data"
    }
   ],
   "source": [
    "# create a bimodal distribution by mixing two normals\n",
    "mixture_func = lambda data, x: sp.stats.norm.pdf(x, loc=1, scale=2) * 0.5 + sp.stats.norm.pdf(x, loc=5, scale=0.5) * 0.5\n",
    "\n",
    "X = np.linspace(-10, 10, 1000)\n",
    "\n",
    "# plot the bimodal distribution\n",
    "plt.plot(X, [mixture_func([], x) for x in X])"
   ]
  },
  {
   "cell_type": "markdown",
   "metadata": {},
   "source": [
    "Then test the function on that distribution"
   ]
  },
  {
   "cell_type": "code",
   "execution_count": 15,
   "metadata": {},
   "outputs": [
    {
     "name": "stdout",
     "output_type": "stream",
     "text": [
      "0\n"
     ]
    },
    {
     "data": {
      "image/png": "[encoded data removed]",
      "text/plain": [
       "<matplotlib.figure.Figure at 0x1a36fc88>"
      ]
     },
     "metadata": {},
     "output_type": "display_data"
    }
   ],
   "source": [
    "data = []\n",
    "likelihood_func = mixture_func\n",
    "initial_random_generator = sp.stats.norm.rvs\n",
    "update_function = lambda present_position: sp.stats.norm.rvs(loc=present_position)\n",
    "\n",
    "results = simulated_annealing(data, likelihood_func, initial_random_generator, update_function, \n",
    "                              n_steps=400, repetitions=50, cooling_factor=0.95)\n",
    "\n",
    "plt.hist(results, bins=100)\n",
    "plt.show()"
   ]
  },
  {
   "cell_type": "markdown",
   "metadata": {},
   "source": [
    "As you can see, the correct global maximum is found a majority of time even with just 400 steps! And sometimes the function gets stuck on the local maximum. This is partially because the mean of the initial_random_generator function is closer to the local max than the global max. Overall, pretty good."
   ]
  },
  {
   "cell_type": "markdown",
   "metadata": {},
   "source": [
    "# Actual estimation"
   ]
  },
  {
   "cell_type": "markdown",
   "metadata": {},
   "source": [
    "First get an idea of where the max is for H0, which is easy to visualize since it only has one parameter."
   ]
  },
  {
   "cell_type": "code",
   "execution_count": 16,
   "metadata": {},
   "outputs": [
    {
     "name": "stderr",
     "output_type": "stream",
     "text": [
      "c:\\users\\pplsuser\\appdata\\local\\programs\\python\\python36\\lib\\site-packages\\ipykernel_launcher.py:3: RuntimeWarning: divide by zero encountered in log\n",
      "  This is separate from the ipykernel package so we can avoid doing imports until\n",
      "c:\\users\\pplsuser\\appdata\\local\\programs\\python\\python36\\lib\\site-packages\\scipy\\stats\\_distn_infrastructure.py:899: RuntimeWarning: divide by zero encountered in log\n",
      "  return log(self._sf(x, *args))\n"
     ]
    },
    {
     "data": {
      "image/png": "[encoded data removed]",
      "text/plain": [
       "<matplotlib.figure.Figure at 0x1a3a3e80>"
      ]
     },
     "metadata": {},
     "output_type": "display_data"
    },
    {
     "data": {
      "image/png": "[encoded data removed]",
      "text/plain": [
       "<matplotlib.figure.Figure at 0x1a36f320>"
      ]
     },
     "metadata": {},
     "output_type": "display_data"
    }
   ],
   "source": [
    "data = counts\n",
    "\n",
    "X = np.linspace(0, 100, 10000)\n",
    "plt.plot(X, [loglikelihood_h0(data, x) for x in X])\n",
    "plt.show()\n",
    "\n",
    "X = np.linspace(62, 62.7, 10000)\n",
    "plt.plot(X, [loglikelihood_h0(data, x) for x in X])\n",
    "plt.show()"
   ]
  },
  {
   "cell_type": "markdown",
   "metadata": {},
   "source": [
    "Okay, the max is somewhere around 62.4. Let's see if the annealing finds it!"
   ]
  },
  {
   "cell_type": "code",
   "execution_count": 17,
   "metadata": {
    "scrolled": false
   },
   "outputs": [
    {
     "name": "stdout",
     "output_type": "stream",
     "text": [
      "0\n"
     ]
    },
    {
     "data": {
      "image/png": "[encoded data removed]",
      "text/plain": [
       "<matplotlib.figure.Figure at 0x1a36fcf8>"
      ]
     },
     "metadata": {},
     "output_type": "display_data"
    },
    {
     "name": "stdout",
     "output_type": "stream",
     "text": [
      "[62.371399167797762, 62.366064070673026, 62.343683044710765, 62.609423751669524, 62.147810940635466, 62.445241405912412, 62.425828675686816, 62.457807037049932, 62.14028829042423, 62.325130960427323]\n"
     ]
    }
   ],
   "source": [
    "likelihood_func = loglikelihood_h0\n",
    "initial_random_generator = sp.stats.norm(loc=40, scale=1).rvs\n",
    "update_function = lambda present_position: sp.stats.norm(loc=present_position, scale=4).rvs()\n",
    "\n",
    "results_h0 = simulated_annealing(data, likelihood_func, initial_random_generator, update_function, \n",
    "                              n_steps=300, repetitions=10, cooling_factor=0.91)\n",
    "\n",
    "plt.hist(results_h0, bins=100)\n",
    "plt.show()\n",
    "\n",
    "print(results_h0)"
   ]
  },
  {
   "cell_type": "markdown",
   "metadata": {},
   "source": [
    "The estimation is pretty close to the actual max! Now onto the more complicated alternative hypothesis.\n",
    "\n",
    "For the alternative hypothesis function, we need three parameters:\n",
    "1. lambda_par_1: this is the $\\lambda$ parameter of the first component of the mixture\n",
    "2. lambda_par_2: this is the $\\lambda$ parameter of the second component of the mixture\n",
    "3. proportion_1: this is the weight of the first component\n",
    "\n",
    "The $\\lambda$ parameters are limited to the positive half of the real line, while the proportion parameter is bounded in the interval [0, 1]. The update function has to consider that so that it doesn't propose an impossible value."
   ]
  },
  {
   "cell_type": "code",
   "execution_count": 56,
   "metadata": {},
   "outputs": [
    {
     "data": {
      "image/png": "[encoded data removed]",
      "text/plain": [
       "<matplotlib.figure.Figure at 0x1b7ca518>"
      ]
     },
     "metadata": {},
     "output_type": "display_data"
    },
    {
     "data": {
      "image/png": "[encoded data removed]",
      "text/plain": [
       "<matplotlib.figure.Figure at 0x1b584c88>"
      ]
     },
     "metadata": {},
     "output_type": "display_data"
    },
    {
     "data": {
      "image/png": "[encoded data removed]",
      "text/plain": [
       "<matplotlib.figure.Figure at 0x1b69ed68>"
      ]
     },
     "metadata": {},
     "output_type": "display_data"
    },
    {
     "name": "stdout",
     "output_type": "stream",
     "text": [
      "[5.0266789775082641, 5.0016778115866893, 0.97510576687392492, 4.986106625554358, 5.0093048765842161, 5.0173668399365807, 4.9802411714918771, 1.0307224292828281, 1.1642133928571461, 0.95117147007307357, 1.0380727075755829, 5.015665036374342, 0.86511878066879699, 4.9600766589760612, -26.117110244326877, 4.9761018361148857, 5.0713992174501312, 1.0495814972105586, 5.0956427550065539, 4.9772945476182198, 1.0009998607429513, 5.0100590897951882, 4.9517806126945736, 5.0187781171474324, 4.9466702634972171, 4.994398754933421, 1.0783321849744469, 1.010534317032701, 5.0230603839556283, 4.960122646946056, 0.9351190425788749, 1.0971474261909189, 5.0498017284109773, 4.9904791995028148, -32.413465662648207, 4.9562190278355303, 5.0345629762077468, 4.9811661363499162, 0.98407564014737336, 4.9175883391283701, 4.949979676260587, 4.9493175804840863, 4.9506290634964465, -47.4163143004928, 5.02181008523059, 5.0445929572201393, 0.95891690615662906, 4.988171714711771, 1.0505883360741319, 0.98457717181987769]\n"
     ]
    }
   ],
   "source": [
    "def update_function (present_position): \n",
    "    pres_lambda1, pres_lambda2, pres_prop = present_position\n",
    "    return [\n",
    "        sp.stats.lognorm(1, loc=pres_lambda1, scale=2).rvs(), # smaller scale so it stays close to 1\n",
    "        sp.stats.lognorm(1, loc=pres_lambda2, scale=10).rvs(), # greater scale so it can move around more\n",
    "        sp.stats.uniform.rvs()\n",
    "    ]\n",
    "\n",
    "\n",
    "def initial_random_generator():\n",
    "    return [sp.stats.lognorm(1, loc=3).rvs(), sp.stats.lognorm(1, loc=300).rvs(), sp.stats.uniform.rvs()]\n",
    "\n",
    "\n",
    "likelihood_func = loglikelihood_h1\n",
    "\n",
    "results_h1 = simulated_annealing(data, likelihood_func, initial_random_generator, update_function, \n",
    "                              n_steps=500, repetitions=200, cooling_factor=0.85)\n",
    "\n",
    "\n",
    "# get the estimated values for each parameter so I can plot them\n",
    "# this looses the connection between the parameters but if there only one max and the estimations are close\n",
    "# that should not be a problem\n",
    "estim_lambda1, estim_lambda2, estim_prop = zip(*results_h1)\n",
    "\n",
    "plt.hist(estim_lambda1, bins=100)\n",
    "plt.show()\n",
    "\n",
    "plt.hist(estim_lambda2, bins=100)\n",
    "plt.show()\n",
    "\n",
    "plt.hist(estim_prop, bins=100)\n",
    "plt.show()\n",
    "\n",
    "print(results)"
   ]
  },
  {
   "cell_type": "markdown",
   "metadata": {},
   "source": [
    "It does look like the estimated values are clustering in a certain portion of the space. The highest found likelihood might be enough to show that the richer model can account significantly better for the data."
   ]
  },
  {
   "cell_type": "code",
   "execution_count": 40,
   "metadata": {},
   "outputs": [
    {
     "name": "stdout",
     "output_type": "stream",
     "text": [
      "This is the best fit for the alternative hypothesis!\n",
      "-1456.12386136\n",
      "This is the best fit for the null hypothesis!\n",
      "-236.811463896\n"
     ]
    },
    {
     "data": {
      "text/plain": [
       "1.4265580407800844e-103"
      ]
     },
     "execution_count": 40,
     "metadata": {},
     "output_type": "execute_result"
    }
   ],
   "source": [
    "# find the best found parameters \n",
    "best_h1 = sorted(results_h1, key=lambda params: loglikelihood_h1(data, params))\n",
    "best_h0 = sorted(results_h0, key=lambda params: loglikelihood_h0(data, params))\n",
    "\n",
    "best_h1_params, best_h1_loglik =[[element, loglikelihood_h1(data, element)] for element in best_h1][-1]\n",
    "\n",
    "best_h0_params, best_h0_loglik =[[element, loglikelihood_h0(data, element)] for element in best_h0][-1]\n",
    "\n",
    "print(\"This is the best fit for the alternative hypothesis!\")\n",
    "print(best_h0_loglik)\n",
    "print(\"This is the best fit for the null hypothesis!\")\n",
    "print(best_h1_loglik)\n",
    "np.exp(-236.811)"
   ]
  },
  {
   "cell_type": "markdown",
   "metadata": {},
   "source": [
    "So the best combinations of parameters is [29.136463689089389, 466.15934902150389, 0.77239591660408258], which means that there is a group of people who in the long run tends to have on average 29 unread emails and another group that on average tends to have 466 unread emails. Moreover, there are more people in the second group than in the first. This set of parameters produces the observed data with a probability of 1.4265580407800844e-103. Which is absolutely tiny. Oh well.\n",
    "\n",
    "Let's find the likelihood ratio!"
   ]
  },
  {
   "cell_type": "code",
   "execution_count": 54,
   "metadata": {},
   "outputs": [
    {
     "data": {
      "text/plain": [
       "0.0"
      ]
     },
     "execution_count": 54,
     "metadata": {},
     "output_type": "execute_result"
    }
   ],
   "source": [
    "logratio = -2 * (best_h0_loglik - best_h1_loglik)\n",
    "\n",
    "sp.stats.chi2.sf(logratio, 2)"
   ]
  },
  {
   "cell_type": "markdown",
   "metadata": {},
   "source": [
    "Pvalue is really tiny! So in conclusion, the model that assumes two types of people is better at accounting for the data than the model that only assumes one type of person."
   ]
  }
 ],
 "metadata": {
  "kernelspec": {
   "display_name": "Python 3",
   "language": "python",
   "name": "python3"
  },
  "language_info": {
   "codemirror_mode": {
    "name": "ipython",
    "version": 3
   },
   "file_extension": ".py",
   "mimetype": "text/x-python",
   "name": "python",
   "nbconvert_exporter": "python",
   "pygments_lexer": "ipython3",
   "version": "3.6.3"
  }
 },
 "nbformat": 4,
 "nbformat_minor": 2
}
